{
 "cells": [
  {
   "cell_type": "code",
   "execution_count": 1,
   "id": "5675d46e",
   "metadata": {},
   "outputs": [],
   "source": [
    "import pandas as pd\n",
    "import numpy as np\n",
    "from matplotlib import pyplot as plt\n",
    "import seaborn as sns\n",
    "from sklearn.model_selection import train_test_split\n",
    "from sklearn.model_selection import KFold\n",
    "from sklearn import tree\n",
    "from sklearn.tree import DecisionTreeClassifier\n",
    "from sklearn.tree import export_text\n",
    "from sklearn.naive_bayes import GaussianNB\n",
    "from sklearn.linear_model import LogisticRegression\n",
    "from sklearn.model_selection import GridSearchCV\n",
    "from sklearn.metrics import accuracy_score"
   ]
  },
  {
   "cell_type": "markdown",
   "id": "992ee847",
   "metadata": {},
   "source": [
    "#### Load in data"
   ]
  },
  {
   "cell_type": "code",
   "execution_count": 2,
   "id": "3306711c",
   "metadata": {
    "scrolled": false
   },
   "outputs": [
    {
     "data": {
      "text/html": [
       "<div>\n",
       "<style scoped>\n",
       "    .dataframe tbody tr th:only-of-type {\n",
       "        vertical-align: middle;\n",
       "    }\n",
       "\n",
       "    .dataframe tbody tr th {\n",
       "        vertical-align: top;\n",
       "    }\n",
       "\n",
       "    .dataframe thead th {\n",
       "        text-align: right;\n",
       "    }\n",
       "</style>\n",
       "<table border=\"1\" class=\"dataframe\">\n",
       "  <thead>\n",
       "    <tr style=\"text-align: right;\">\n",
       "      <th></th>\n",
       "      <th>class</th>\n",
       "      <th>cap-shape</th>\n",
       "      <th>cap-surface</th>\n",
       "      <th>cap-color</th>\n",
       "      <th>bruises</th>\n",
       "      <th>odor</th>\n",
       "      <th>gill-attachment</th>\n",
       "      <th>gill-spacing</th>\n",
       "      <th>gill-size</th>\n",
       "      <th>gill-color</th>\n",
       "      <th>...</th>\n",
       "      <th>stalk-surface-below-ring</th>\n",
       "      <th>stalk-color-above-ring</th>\n",
       "      <th>stalk-color-below-ring</th>\n",
       "      <th>veil-type</th>\n",
       "      <th>veil-color</th>\n",
       "      <th>ring-number</th>\n",
       "      <th>ring-type</th>\n",
       "      <th>spore-print-color</th>\n",
       "      <th>population</th>\n",
       "      <th>habitat</th>\n",
       "    </tr>\n",
       "  </thead>\n",
       "  <tbody>\n",
       "    <tr>\n",
       "      <th>0</th>\n",
       "      <td>p</td>\n",
       "      <td>x</td>\n",
       "      <td>s</td>\n",
       "      <td>n</td>\n",
       "      <td>t</td>\n",
       "      <td>p</td>\n",
       "      <td>f</td>\n",
       "      <td>c</td>\n",
       "      <td>n</td>\n",
       "      <td>k</td>\n",
       "      <td>...</td>\n",
       "      <td>s</td>\n",
       "      <td>w</td>\n",
       "      <td>w</td>\n",
       "      <td>p</td>\n",
       "      <td>w</td>\n",
       "      <td>o</td>\n",
       "      <td>p</td>\n",
       "      <td>k</td>\n",
       "      <td>s</td>\n",
       "      <td>u</td>\n",
       "    </tr>\n",
       "    <tr>\n",
       "      <th>1</th>\n",
       "      <td>e</td>\n",
       "      <td>x</td>\n",
       "      <td>s</td>\n",
       "      <td>y</td>\n",
       "      <td>t</td>\n",
       "      <td>a</td>\n",
       "      <td>f</td>\n",
       "      <td>c</td>\n",
       "      <td>b</td>\n",
       "      <td>k</td>\n",
       "      <td>...</td>\n",
       "      <td>s</td>\n",
       "      <td>w</td>\n",
       "      <td>w</td>\n",
       "      <td>p</td>\n",
       "      <td>w</td>\n",
       "      <td>o</td>\n",
       "      <td>p</td>\n",
       "      <td>n</td>\n",
       "      <td>n</td>\n",
       "      <td>g</td>\n",
       "    </tr>\n",
       "    <tr>\n",
       "      <th>2</th>\n",
       "      <td>e</td>\n",
       "      <td>b</td>\n",
       "      <td>s</td>\n",
       "      <td>w</td>\n",
       "      <td>t</td>\n",
       "      <td>l</td>\n",
       "      <td>f</td>\n",
       "      <td>c</td>\n",
       "      <td>b</td>\n",
       "      <td>n</td>\n",
       "      <td>...</td>\n",
       "      <td>s</td>\n",
       "      <td>w</td>\n",
       "      <td>w</td>\n",
       "      <td>p</td>\n",
       "      <td>w</td>\n",
       "      <td>o</td>\n",
       "      <td>p</td>\n",
       "      <td>n</td>\n",
       "      <td>n</td>\n",
       "      <td>m</td>\n",
       "    </tr>\n",
       "    <tr>\n",
       "      <th>3</th>\n",
       "      <td>p</td>\n",
       "      <td>x</td>\n",
       "      <td>y</td>\n",
       "      <td>w</td>\n",
       "      <td>t</td>\n",
       "      <td>p</td>\n",
       "      <td>f</td>\n",
       "      <td>c</td>\n",
       "      <td>n</td>\n",
       "      <td>n</td>\n",
       "      <td>...</td>\n",
       "      <td>s</td>\n",
       "      <td>w</td>\n",
       "      <td>w</td>\n",
       "      <td>p</td>\n",
       "      <td>w</td>\n",
       "      <td>o</td>\n",
       "      <td>p</td>\n",
       "      <td>k</td>\n",
       "      <td>s</td>\n",
       "      <td>u</td>\n",
       "    </tr>\n",
       "    <tr>\n",
       "      <th>4</th>\n",
       "      <td>e</td>\n",
       "      <td>x</td>\n",
       "      <td>s</td>\n",
       "      <td>g</td>\n",
       "      <td>f</td>\n",
       "      <td>n</td>\n",
       "      <td>f</td>\n",
       "      <td>w</td>\n",
       "      <td>b</td>\n",
       "      <td>k</td>\n",
       "      <td>...</td>\n",
       "      <td>s</td>\n",
       "      <td>w</td>\n",
       "      <td>w</td>\n",
       "      <td>p</td>\n",
       "      <td>w</td>\n",
       "      <td>o</td>\n",
       "      <td>e</td>\n",
       "      <td>n</td>\n",
       "      <td>a</td>\n",
       "      <td>g</td>\n",
       "    </tr>\n",
       "  </tbody>\n",
       "</table>\n",
       "<p>5 rows × 23 columns</p>\n",
       "</div>"
      ],
      "text/plain": [
       "  class cap-shape cap-surface cap-color bruises odor gill-attachment  \\\n",
       "0     p         x           s         n       t    p               f   \n",
       "1     e         x           s         y       t    a               f   \n",
       "2     e         b           s         w       t    l               f   \n",
       "3     p         x           y         w       t    p               f   \n",
       "4     e         x           s         g       f    n               f   \n",
       "\n",
       "  gill-spacing gill-size gill-color  ... stalk-surface-below-ring  \\\n",
       "0            c         n          k  ...                        s   \n",
       "1            c         b          k  ...                        s   \n",
       "2            c         b          n  ...                        s   \n",
       "3            c         n          n  ...                        s   \n",
       "4            w         b          k  ...                        s   \n",
       "\n",
       "  stalk-color-above-ring stalk-color-below-ring veil-type veil-color  \\\n",
       "0                      w                      w         p          w   \n",
       "1                      w                      w         p          w   \n",
       "2                      w                      w         p          w   \n",
       "3                      w                      w         p          w   \n",
       "4                      w                      w         p          w   \n",
       "\n",
       "  ring-number ring-type spore-print-color population habitat  \n",
       "0           o         p                 k          s       u  \n",
       "1           o         p                 n          n       g  \n",
       "2           o         p                 n          n       m  \n",
       "3           o         p                 k          s       u  \n",
       "4           o         e                 n          a       g  \n",
       "\n",
       "[5 rows x 23 columns]"
      ]
     },
     "execution_count": 2,
     "metadata": {},
     "output_type": "execute_result"
    }
   ],
   "source": [
    "mushrooms = pd.read_csv(\"mushrooms.csv\")\n",
    "mushrooms.head()"
   ]
  },
  {
   "cell_type": "markdown",
   "id": "ea510920",
   "metadata": {},
   "source": [
    "### Exploratory data analysis\n",
    "#### Make plots comparing feature distribution between poisonous and edible classes."
   ]
  },
  {
   "cell_type": "code",
   "execution_count": 3,
   "id": "3452dd4d",
   "metadata": {},
   "outputs": [
    {
     "data": {
      "text/plain": [
       "<Figure size 432x288 with 0 Axes>"
      ]
     },
     "metadata": {},
     "output_type": "display_data"
    },
    {
     "data": {
      "image/png": "[encoded data removed]",
      "text/plain": [
       "<Figure size 402.25x360 with 1 Axes>"
      ]
     },
     "metadata": {
      "needs_background": "light"
     },
     "output_type": "display_data"
    }
   ],
   "source": [
    "plt.figure()\n",
    "g = sns.catplot(x=\"odor\", hue = \"class\", data = mushrooms, kind = \"count\")\n",
    "g.set_axis_labels(\"Odor\", \"Count\")\n",
    "\n",
    "axes = g.axes.flatten()\n",
    "axes[0].set_title(\"Odor for Poisonous vs. Edible Samples\")\n",
    "\n",
    "g.legend.texts[0].set_text(\"Poisonous\")\n",
    "g.legend.texts[1].set_text(\"Edible\")\n",
    "\n",
    "plt.show()"
   ]
  },
  {
   "cell_type": "code",
   "execution_count": 4,
   "id": "9566f21e",
   "metadata": {},
   "outputs": [
    {
     "data": {
      "text/plain": [
       "<Figure size 432x288 with 0 Axes>"
      ]
     },
     "metadata": {},
     "output_type": "display_data"
    },
    {
     "data": {
      "image/png": "[encoded data removed]",
      "text/plain": [
       "<Figure size 402.25x360 with 1 Axes>"
      ]
     },
     "metadata": {
      "needs_background": "light"
     },
     "output_type": "display_data"
    }
   ],
   "source": [
    "plt.figure()\n",
    "g = sns.catplot(x=\"cap-shape\", hue = \"class\", data = mushrooms, kind = \"count\")\n",
    "g.set_axis_labels(\"Cap Shape\", \"Count\")\n",
    "\n",
    "axes = g.axes.flatten()\n",
    "axes[0].set_title(\"Cap Shape for Poisonous vs. Edible Samples\")\n",
    "\n",
    "g.legend.texts[0].set_text(\"Poisonous\")\n",
    "g.legend.texts[1].set_text(\"Edible\")\n",
    "\n",
    "plt.show()"
   ]
  },
  {
   "cell_type": "code",
   "execution_count": 5,
   "id": "245dac0d",
   "metadata": {},
   "outputs": [
    {
     "data": {
      "text/plain": [
       "<Figure size 432x288 with 0 Axes>"
      ]
     },
     "metadata": {},
     "output_type": "display_data"
    },
    {
     "data": {
      "image/png": "[encoded data removed]",
      "text/plain": [
       "<Figure size 402.25x360 with 1 Axes>"
      ]
     },
     "metadata": {
      "needs_background": "light"
     },
     "output_type": "display_data"
    }
   ],
   "source": [
    "plt.figure()\n",
    "g = sns.catplot(x=\"spore-print-color\", hue = \"class\", data = mushrooms, kind = \"count\")\n",
    "g.set_axis_labels(\"Spore Print Color\", \"Count\")\n",
    "\n",
    "axes = g.axes.flatten()\n",
    "axes[0].set_title(\"Spore Print Color for Poisonous vs. Edible Samples\")\n",
    "\n",
    "g.legend.texts[0].set_text(\"Poisonous\")\n",
    "g.legend.texts[1].set_text(\"Edible\")\n",
    "\n",
    "plt.show()"
   ]
  },
  {
   "cell_type": "markdown",
   "id": "8cbe6cd3",
   "metadata": {},
   "source": [
    "#### Exploratory data analysis conclusion\n",
    "It appears that odor and spore print color are among the best features to distinguish edibility, so we'll use these two features in our modeals."
   ]
  },
  {
   "cell_type": "markdown",
   "id": "eacbd415",
   "metadata": {},
   "source": [
    "### Data pre-processing\n",
    "The following python script one-hot encodes the odor and spore print color features. The new dataframe to be used is \"mushrooms_new\" We then implement an 75-25 train-test split and will use 5-fold cross-validation."
   ]
  },
  {
   "cell_type": "code",
   "execution_count": 6,
   "id": "355855ef",
   "metadata": {},
   "outputs": [],
   "source": [
    "%run making_dummies.py"
   ]
  },
  {
   "cell_type": "code",
   "execution_count": 7,
   "id": "d4413ba4",
   "metadata": {},
   "outputs": [
    {
     "data": {
      "text/html": [
       "<div>\n",
       "<style scoped>\n",
       "    .dataframe tbody tr th:only-of-type {\n",
       "        vertical-align: middle;\n",
       "    }\n",
       "\n",
       "    .dataframe tbody tr th {\n",
       "        vertical-align: top;\n",
       "    }\n",
       "\n",
       "    .dataframe thead th {\n",
       "        text-align: right;\n",
       "    }\n",
       "</style>\n",
       "<table border=\"1\" class=\"dataframe\">\n",
       "  <thead>\n",
       "    <tr style=\"text-align: right;\">\n",
       "      <th></th>\n",
       "      <th>edible</th>\n",
       "      <th>spore_print_color_black</th>\n",
       "      <th>spore_print_color_brown</th>\n",
       "      <th>spore_print_color_purple</th>\n",
       "      <th>spore_print_color_chocolate</th>\n",
       "      <th>spore_print_color_white</th>\n",
       "      <th>spore_print_color_green</th>\n",
       "      <th>spore_print_color_orange</th>\n",
       "      <th>spore_print_color_yellow</th>\n",
       "      <th>spore_print_color_buff</th>\n",
       "      <th>odor_pungent</th>\n",
       "      <th>odor_almond</th>\n",
       "      <th>odor_anise</th>\n",
       "      <th>odor_none</th>\n",
       "      <th>odor_foul</th>\n",
       "      <th>odor_creosote</th>\n",
       "      <th>odor_fishy</th>\n",
       "      <th>odor_spicy</th>\n",
       "      <th>odor_musty</th>\n",
       "    </tr>\n",
       "  </thead>\n",
       "  <tbody>\n",
       "    <tr>\n",
       "      <th>0</th>\n",
       "      <td>0</td>\n",
       "      <td>1</td>\n",
       "      <td>0</td>\n",
       "      <td>0</td>\n",
       "      <td>0</td>\n",
       "      <td>0</td>\n",
       "      <td>0</td>\n",
       "      <td>0</td>\n",
       "      <td>0</td>\n",
       "      <td>0</td>\n",
       "      <td>1</td>\n",
       "      <td>0</td>\n",
       "      <td>0</td>\n",
       "      <td>0</td>\n",
       "      <td>0</td>\n",
       "      <td>0</td>\n",
       "      <td>0</td>\n",
       "      <td>0</td>\n",
       "      <td>0</td>\n",
       "    </tr>\n",
       "    <tr>\n",
       "      <th>1</th>\n",
       "      <td>1</td>\n",
       "      <td>0</td>\n",
       "      <td>1</td>\n",
       "      <td>0</td>\n",
       "      <td>0</td>\n",
       "      <td>0</td>\n",
       "      <td>0</td>\n",
       "      <td>0</td>\n",
       "      <td>0</td>\n",
       "      <td>0</td>\n",
       "      <td>0</td>\n",
       "      <td>1</td>\n",
       "      <td>0</td>\n",
       "      <td>0</td>\n",
       "      <td>0</td>\n",
       "      <td>0</td>\n",
       "      <td>0</td>\n",
       "      <td>0</td>\n",
       "      <td>0</td>\n",
       "    </tr>\n",
       "    <tr>\n",
       "      <th>2</th>\n",
       "      <td>1</td>\n",
       "      <td>0</td>\n",
       "      <td>1</td>\n",
       "      <td>0</td>\n",
       "      <td>0</td>\n",
       "      <td>0</td>\n",
       "      <td>0</td>\n",
       "      <td>0</td>\n",
       "      <td>0</td>\n",
       "      <td>0</td>\n",
       "      <td>0</td>\n",
       "      <td>0</td>\n",
       "      <td>1</td>\n",
       "      <td>0</td>\n",
       "      <td>0</td>\n",
       "      <td>0</td>\n",
       "      <td>0</td>\n",
       "      <td>0</td>\n",
       "      <td>0</td>\n",
       "    </tr>\n",
       "    <tr>\n",
       "      <th>3</th>\n",
       "      <td>0</td>\n",
       "      <td>1</td>\n",
       "      <td>0</td>\n",
       "      <td>0</td>\n",
       "      <td>0</td>\n",
       "      <td>0</td>\n",
       "      <td>0</td>\n",
       "      <td>0</td>\n",
       "      <td>0</td>\n",
       "      <td>0</td>\n",
       "      <td>1</td>\n",
       "      <td>0</td>\n",
       "      <td>0</td>\n",
       "      <td>0</td>\n",
       "      <td>0</td>\n",
       "      <td>0</td>\n",
       "      <td>0</td>\n",
       "      <td>0</td>\n",
       "      <td>0</td>\n",
       "    </tr>\n",
       "    <tr>\n",
       "      <th>4</th>\n",
       "      <td>1</td>\n",
       "      <td>0</td>\n",
       "      <td>1</td>\n",
       "      <td>0</td>\n",
       "      <td>0</td>\n",
       "      <td>0</td>\n",
       "      <td>0</td>\n",
       "      <td>0</td>\n",
       "      <td>0</td>\n",
       "      <td>0</td>\n",
       "      <td>0</td>\n",
       "      <td>0</td>\n",
       "      <td>0</td>\n",
       "      <td>1</td>\n",
       "      <td>0</td>\n",
       "      <td>0</td>\n",
       "      <td>0</td>\n",
       "      <td>0</td>\n",
       "      <td>0</td>\n",
       "    </tr>\n",
       "  </tbody>\n",
       "</table>\n",
       "</div>"
      ],
      "text/plain": [
       "   edible  spore_print_color_black  spore_print_color_brown  \\\n",
       "0       0                        1                        0   \n",
       "1       1                        0                        1   \n",
       "2       1                        0                        1   \n",
       "3       0                        1                        0   \n",
       "4       1                        0                        1   \n",
       "\n",
       "   spore_print_color_purple  spore_print_color_chocolate  \\\n",
       "0                         0                            0   \n",
       "1                         0                            0   \n",
       "2                         0                            0   \n",
       "3                         0                            0   \n",
       "4                         0                            0   \n",
       "\n",
       "   spore_print_color_white  spore_print_color_green  spore_print_color_orange  \\\n",
       "0                        0                        0                         0   \n",
       "1                        0                        0                         0   \n",
       "2                        0                        0                         0   \n",
       "3                        0                        0                         0   \n",
       "4                        0                        0                         0   \n",
       "\n",
       "   spore_print_color_yellow  spore_print_color_buff  odor_pungent  \\\n",
       "0                         0                       0             1   \n",
       "1                         0                       0             0   \n",
       "2                         0                       0             0   \n",
       "3                         0                       0             1   \n",
       "4                         0                       0             0   \n",
       "\n",
       "   odor_almond  odor_anise  odor_none  odor_foul  odor_creosote  odor_fishy  \\\n",
       "0            0           0          0          0              0           0   \n",
       "1            1           0          0          0              0           0   \n",
       "2            0           1          0          0              0           0   \n",
       "3            0           0          0          0              0           0   \n",
       "4            0           0          1          0              0           0   \n",
       "\n",
       "   odor_spicy  odor_musty  \n",
       "0           0           0  \n",
       "1           0           0  \n",
       "2           0           0  \n",
       "3           0           0  \n",
       "4           0           0  "
      ]
     },
     "execution_count": 7,
     "metadata": {},
     "output_type": "execute_result"
    }
   ],
   "source": [
    "mushrooms_new.head()"
   ]
  },
  {
   "cell_type": "code",
   "execution_count": 8,
   "id": "771e959c",
   "metadata": {},
   "outputs": [],
   "source": [
    "x = mushrooms_new.drop(['edible'], axis = 1)\n",
    "y = mushrooms_new['edible']\n",
    "x_train, x_test, y_train, y_test = train_test_split(x, y, shuffle=True, random_state = 0, test_size = .25)\n",
    "kfold = KFold(n_splits = 5, shuffle = True, random_state = 0)"
   ]
  },
  {
   "cell_type": "markdown",
   "id": "f738e392",
   "metadata": {},
   "source": [
    "### Naive Bayes model"
   ]
  },
  {
   "cell_type": "code",
   "execution_count": 9,
   "id": "016395bc",
   "metadata": {},
   "outputs": [],
   "source": [
    "nb = GaussianNB()\n",
    "\n",
    "nb.fit(x_train,y_train)\n",
    "NBpreds = nb.predict(x_test)"
   ]
  },
  {
   "cell_type": "markdown",
   "id": "3b058a54",
   "metadata": {},
   "source": [
    "#### NB test accuracy"
   ]
  },
  {
   "cell_type": "code",
   "execution_count": 10,
   "id": "5e947c62",
   "metadata": {},
   "outputs": [
    {
     "data": {
      "text/plain": [
       "0.9891678975873953"
      ]
     },
     "execution_count": 10,
     "metadata": {},
     "output_type": "execute_result"
    }
   ],
   "source": [
    "accuracy_score(y_test,NBpreds)"
   ]
  },
  {
   "cell_type": "markdown",
   "id": "01f73e4b",
   "metadata": {},
   "source": [
    "### Logistic regression model"
   ]
  },
  {
   "cell_type": "code",
   "execution_count": 11,
   "id": "439d9001",
   "metadata": {},
   "outputs": [
    {
     "data": {
      "text/plain": [
       "{'C': 1}"
      ]
     },
     "execution_count": 11,
     "metadata": {},
     "output_type": "execute_result"
    }
   ],
   "source": [
    "grid_cv = GridSearchCV(LogisticRegression(),\n",
    "                          param_grid = {'C':range(1,2)},\n",
    "                          scoring = 'accuracy',\n",
    "                          cv = 5)\n",
    "\n",
    "grid_cv.fit(x_train,y_train)\n",
    "grid_cv.best_params_"
   ]
  },
  {
   "cell_type": "code",
   "execution_count": 12,
   "id": "9a819456",
   "metadata": {},
   "outputs": [],
   "source": [
    "LR = LogisticRegression(C = 1)\n",
    "LR.fit(x_train,y_train)\n",
    "LRpreds = LR.predict(x_test)"
   ]
  },
  {
   "cell_type": "markdown",
   "id": "22ca1dbd",
   "metadata": {},
   "source": [
    "#### LR test accuracy"
   ]
  },
  {
   "cell_type": "code",
   "execution_count": 13,
   "id": "289142c4",
   "metadata": {},
   "outputs": [
    {
     "data": {
      "text/plain": [
       "0.9950763170851797"
      ]
     },
     "execution_count": 13,
     "metadata": {},
     "output_type": "execute_result"
    }
   ],
   "source": [
    "accuracy_score(y_test, LRpreds)"
   ]
  },
  {
   "cell_type": "markdown",
   "id": "2df52a02",
   "metadata": {},
   "source": [
    "### Decision tree model"
   ]
  },
  {
   "cell_type": "code",
   "execution_count": 14,
   "id": "ec4fe301",
   "metadata": {},
   "outputs": [
    {
     "data": {
      "text/plain": [
       "{'max_depth': 3}"
      ]
     },
     "execution_count": 14,
     "metadata": {},
     "output_type": "execute_result"
    }
   ],
   "source": [
    "grid_cv = GridSearchCV(DecisionTreeClassifier(),\n",
    "                          param_grid = {'max_depth':range(1,6)},\n",
    "                          scoring = 'accuracy',\n",
    "                          cv = 5)\n",
    "\n",
    "grid_cv.fit(x_train,y_train)\n",
    "grid_cv.best_params_"
   ]
  },
  {
   "cell_type": "code",
   "execution_count": 15,
   "id": "d16d40ef",
   "metadata": {},
   "outputs": [],
   "source": [
    "mtree = DecisionTreeClassifier(max_depth = 3)\n",
    "mtree.fit(x_train, y_train)\n",
    "DTpreds = mtree.predict(x_test)"
   ]
  },
  {
   "cell_type": "markdown",
   "id": "2da5aee5",
   "metadata": {},
   "source": [
    "### DT test accuracy"
   ]
  },
  {
   "cell_type": "code",
   "execution_count": 16,
   "id": "820afa9a",
   "metadata": {},
   "outputs": [
    {
     "data": {
      "text/plain": [
       "0.9950763170851797"
      ]
     },
     "execution_count": 16,
     "metadata": {},
     "output_type": "execute_result"
    }
   ],
   "source": [
    "accuracy_score(y_test,DTpreds)"
   ]
  },
  {
   "cell_type": "markdown",
   "id": "c017b78b",
   "metadata": {},
   "source": [
    "## Model selection conclusion\n",
    "The decision tree and logistic regression models give the best test accuracy. Due to the nature of the models, we choose to analyze the decision tree model further to provide further conclusions."
   ]
  },
  {
   "cell_type": "markdown",
   "id": "e4b4f0ae",
   "metadata": {},
   "source": [
    "## DT model analysis"
   ]
  },
  {
   "cell_type": "code",
   "execution_count": 17,
   "id": "38c8ac6b",
   "metadata": {},
   "outputs": [
    {
     "name": "stdout",
     "output_type": "stream",
     "text": [
      "|--- odor_none <= 0.50\n",
      "|   |--- odor_anise <= 0.50\n",
      "|   |   |--- odor_almond <= 0.50\n",
      "|   |   |   |--- class: 0\n",
      "|   |   |--- odor_almond >  0.50\n",
      "|   |   |   |--- class: 1\n",
      "|   |--- odor_anise >  0.50\n",
      "|   |   |--- class: 1\n",
      "|--- odor_none >  0.50\n",
      "|   |--- spore_print_color_green <= 0.50\n",
      "|   |   |--- spore_print_color_white <= 0.50\n",
      "|   |   |   |--- class: 1\n",
      "|   |   |--- spore_print_color_white >  0.50\n",
      "|   |   |   |--- class: 1\n",
      "|   |--- spore_print_color_green >  0.50\n",
      "|   |   |--- class: 0\n",
      "\n"
     ]
    }
   ],
   "source": [
    "print(export_text(mtree, feature_names = list(x_test.columns)))"
   ]
  },
  {
   "cell_type": "markdown",
   "id": "712ce298",
   "metadata": {},
   "source": [
    "### Decision tree summary\n",
    "* Anise or almond odor => EDIBLE\n",
    "* Any other odor => POISONOUS \n",
    "* Odorless and green spore print => POISONOUS\n",
    "* Odorless and any other spore print color => EDIBLE"
   ]
  },
  {
   "cell_type": "markdown",
   "id": "de8102f6",
   "metadata": {},
   "source": [
    "#### Errors made by decision tree"
   ]
  },
  {
   "cell_type": "code",
   "execution_count": 18,
   "id": "ad07c13f",
   "metadata": {},
   "outputs": [],
   "source": [
    "Tree_errors = []\n",
    "for i in range(len(DTpreds)):\n",
    "    if DTpreds[i] != y_test.iloc[i]:\n",
    "        Tree_errors.append(y_test.index[i])"
   ]
  },
  {
   "cell_type": "code",
   "execution_count": 19,
   "id": "39fad31a",
   "metadata": {},
   "outputs": [
    {
     "data": {
      "text/html": [
       "<div>\n",
       "<style scoped>\n",
       "    .dataframe tbody tr th:only-of-type {\n",
       "        vertical-align: middle;\n",
       "    }\n",
       "\n",
       "    .dataframe tbody tr th {\n",
       "        vertical-align: top;\n",
       "    }\n",
       "\n",
       "    .dataframe thead th {\n",
       "        text-align: right;\n",
       "    }\n",
       "</style>\n",
       "<table border=\"1\" class=\"dataframe\">\n",
       "  <thead>\n",
       "    <tr style=\"text-align: right;\">\n",
       "      <th></th>\n",
       "      <th>edible</th>\n",
       "      <th>spore_print_color_black</th>\n",
       "      <th>spore_print_color_brown</th>\n",
       "      <th>spore_print_color_purple</th>\n",
       "      <th>spore_print_color_chocolate</th>\n",
       "      <th>spore_print_color_white</th>\n",
       "      <th>spore_print_color_green</th>\n",
       "      <th>spore_print_color_orange</th>\n",
       "      <th>spore_print_color_yellow</th>\n",
       "      <th>spore_print_color_buff</th>\n",
       "      <th>odor_pungent</th>\n",
       "      <th>odor_almond</th>\n",
       "      <th>odor_anise</th>\n",
       "      <th>odor_none</th>\n",
       "      <th>odor_foul</th>\n",
       "      <th>odor_creosote</th>\n",
       "      <th>odor_fishy</th>\n",
       "      <th>odor_spicy</th>\n",
       "      <th>odor_musty</th>\n",
       "    </tr>\n",
       "  </thead>\n",
       "  <tbody>\n",
       "    <tr>\n",
       "      <th>4494</th>\n",
       "      <td>0</td>\n",
       "      <td>0</td>\n",
       "      <td>0</td>\n",
       "      <td>0</td>\n",
       "      <td>0</td>\n",
       "      <td>1</td>\n",
       "      <td>0</td>\n",
       "      <td>0</td>\n",
       "      <td>0</td>\n",
       "      <td>0</td>\n",
       "      <td>0</td>\n",
       "      <td>0</td>\n",
       "      <td>0</td>\n",
       "      <td>1</td>\n",
       "      <td>0</td>\n",
       "      <td>0</td>\n",
       "      <td>0</td>\n",
       "      <td>0</td>\n",
       "      <td>0</td>\n",
       "    </tr>\n",
       "    <tr>\n",
       "      <th>5964</th>\n",
       "      <td>0</td>\n",
       "      <td>0</td>\n",
       "      <td>0</td>\n",
       "      <td>0</td>\n",
       "      <td>0</td>\n",
       "      <td>1</td>\n",
       "      <td>0</td>\n",
       "      <td>0</td>\n",
       "      <td>0</td>\n",
       "      <td>0</td>\n",
       "      <td>0</td>\n",
       "      <td>0</td>\n",
       "      <td>0</td>\n",
       "      <td>1</td>\n",
       "      <td>0</td>\n",
       "      <td>0</td>\n",
       "      <td>0</td>\n",
       "      <td>0</td>\n",
       "      <td>0</td>\n",
       "    </tr>\n",
       "    <tr>\n",
       "      <th>5224</th>\n",
       "      <td>0</td>\n",
       "      <td>0</td>\n",
       "      <td>0</td>\n",
       "      <td>0</td>\n",
       "      <td>0</td>\n",
       "      <td>1</td>\n",
       "      <td>0</td>\n",
       "      <td>0</td>\n",
       "      <td>0</td>\n",
       "      <td>0</td>\n",
       "      <td>0</td>\n",
       "      <td>0</td>\n",
       "      <td>0</td>\n",
       "      <td>1</td>\n",
       "      <td>0</td>\n",
       "      <td>0</td>\n",
       "      <td>0</td>\n",
       "      <td>0</td>\n",
       "      <td>0</td>\n",
       "    </tr>\n",
       "    <tr>\n",
       "      <th>4826</th>\n",
       "      <td>0</td>\n",
       "      <td>0</td>\n",
       "      <td>0</td>\n",
       "      <td>0</td>\n",
       "      <td>0</td>\n",
       "      <td>1</td>\n",
       "      <td>0</td>\n",
       "      <td>0</td>\n",
       "      <td>0</td>\n",
       "      <td>0</td>\n",
       "      <td>0</td>\n",
       "      <td>0</td>\n",
       "      <td>0</td>\n",
       "      <td>1</td>\n",
       "      <td>0</td>\n",
       "      <td>0</td>\n",
       "      <td>0</td>\n",
       "      <td>0</td>\n",
       "      <td>0</td>\n",
       "    </tr>\n",
       "    <tr>\n",
       "      <th>7706</th>\n",
       "      <td>0</td>\n",
       "      <td>0</td>\n",
       "      <td>0</td>\n",
       "      <td>0</td>\n",
       "      <td>0</td>\n",
       "      <td>1</td>\n",
       "      <td>0</td>\n",
       "      <td>0</td>\n",
       "      <td>0</td>\n",
       "      <td>0</td>\n",
       "      <td>0</td>\n",
       "      <td>0</td>\n",
       "      <td>0</td>\n",
       "      <td>1</td>\n",
       "      <td>0</td>\n",
       "      <td>0</td>\n",
       "      <td>0</td>\n",
       "      <td>0</td>\n",
       "      <td>0</td>\n",
       "    </tr>\n",
       "    <tr>\n",
       "      <th>5935</th>\n",
       "      <td>0</td>\n",
       "      <td>0</td>\n",
       "      <td>0</td>\n",
       "      <td>0</td>\n",
       "      <td>0</td>\n",
       "      <td>1</td>\n",
       "      <td>0</td>\n",
       "      <td>0</td>\n",
       "      <td>0</td>\n",
       "      <td>0</td>\n",
       "      <td>0</td>\n",
       "      <td>0</td>\n",
       "      <td>0</td>\n",
       "      <td>1</td>\n",
       "      <td>0</td>\n",
       "      <td>0</td>\n",
       "      <td>0</td>\n",
       "      <td>0</td>\n",
       "      <td>0</td>\n",
       "    </tr>\n",
       "    <tr>\n",
       "      <th>7600</th>\n",
       "      <td>0</td>\n",
       "      <td>0</td>\n",
       "      <td>0</td>\n",
       "      <td>0</td>\n",
       "      <td>0</td>\n",
       "      <td>1</td>\n",
       "      <td>0</td>\n",
       "      <td>0</td>\n",
       "      <td>0</td>\n",
       "      <td>0</td>\n",
       "      <td>0</td>\n",
       "      <td>0</td>\n",
       "      <td>0</td>\n",
       "      <td>1</td>\n",
       "      <td>0</td>\n",
       "      <td>0</td>\n",
       "      <td>0</td>\n",
       "      <td>0</td>\n",
       "      <td>0</td>\n",
       "    </tr>\n",
       "    <tr>\n",
       "      <th>5332</th>\n",
       "      <td>0</td>\n",
       "      <td>0</td>\n",
       "      <td>0</td>\n",
       "      <td>0</td>\n",
       "      <td>0</td>\n",
       "      <td>1</td>\n",
       "      <td>0</td>\n",
       "      <td>0</td>\n",
       "      <td>0</td>\n",
       "      <td>0</td>\n",
       "      <td>0</td>\n",
       "      <td>0</td>\n",
       "      <td>0</td>\n",
       "      <td>1</td>\n",
       "      <td>0</td>\n",
       "      <td>0</td>\n",
       "      <td>0</td>\n",
       "      <td>0</td>\n",
       "      <td>0</td>\n",
       "    </tr>\n",
       "    <tr>\n",
       "      <th>5783</th>\n",
       "      <td>0</td>\n",
       "      <td>0</td>\n",
       "      <td>0</td>\n",
       "      <td>0</td>\n",
       "      <td>0</td>\n",
       "      <td>1</td>\n",
       "      <td>0</td>\n",
       "      <td>0</td>\n",
       "      <td>0</td>\n",
       "      <td>0</td>\n",
       "      <td>0</td>\n",
       "      <td>0</td>\n",
       "      <td>0</td>\n",
       "      <td>1</td>\n",
       "      <td>0</td>\n",
       "      <td>0</td>\n",
       "      <td>0</td>\n",
       "      <td>0</td>\n",
       "      <td>0</td>\n",
       "    </tr>\n",
       "    <tr>\n",
       "      <th>5085</th>\n",
       "      <td>0</td>\n",
       "      <td>0</td>\n",
       "      <td>0</td>\n",
       "      <td>0</td>\n",
       "      <td>0</td>\n",
       "      <td>1</td>\n",
       "      <td>0</td>\n",
       "      <td>0</td>\n",
       "      <td>0</td>\n",
       "      <td>0</td>\n",
       "      <td>0</td>\n",
       "      <td>0</td>\n",
       "      <td>0</td>\n",
       "      <td>1</td>\n",
       "      <td>0</td>\n",
       "      <td>0</td>\n",
       "      <td>0</td>\n",
       "      <td>0</td>\n",
       "      <td>0</td>\n",
       "    </tr>\n",
       "  </tbody>\n",
       "</table>\n",
       "</div>"
      ],
      "text/plain": [
       "      edible  spore_print_color_black  spore_print_color_brown  \\\n",
       "4494       0                        0                        0   \n",
       "5964       0                        0                        0   \n",
       "5224       0                        0                        0   \n",
       "4826       0                        0                        0   \n",
       "7706       0                        0                        0   \n",
       "5935       0                        0                        0   \n",
       "7600       0                        0                        0   \n",
       "5332       0                        0                        0   \n",
       "5783       0                        0                        0   \n",
       "5085       0                        0                        0   \n",
       "\n",
       "      spore_print_color_purple  spore_print_color_chocolate  \\\n",
       "4494                         0                            0   \n",
       "5964                         0                            0   \n",
       "5224                         0                            0   \n",
       "4826                         0                            0   \n",
       "7706                         0                            0   \n",
       "5935                         0                            0   \n",
       "7600                         0                            0   \n",
       "5332                         0                            0   \n",
       "5783                         0                            0   \n",
       "5085                         0                            0   \n",
       "\n",
       "      spore_print_color_white  spore_print_color_green  \\\n",
       "4494                        1                        0   \n",
       "5964                        1                        0   \n",
       "5224                        1                        0   \n",
       "4826                        1                        0   \n",
       "7706                        1                        0   \n",
       "5935                        1                        0   \n",
       "7600                        1                        0   \n",
       "5332                        1                        0   \n",
       "5783                        1                        0   \n",
       "5085                        1                        0   \n",
       "\n",
       "      spore_print_color_orange  spore_print_color_yellow  \\\n",
       "4494                         0                         0   \n",
       "5964                         0                         0   \n",
       "5224                         0                         0   \n",
       "4826                         0                         0   \n",
       "7706                         0                         0   \n",
       "5935                         0                         0   \n",
       "7600                         0                         0   \n",
       "5332                         0                         0   \n",
       "5783                         0                         0   \n",
       "5085                         0                         0   \n",
       "\n",
       "      spore_print_color_buff  odor_pungent  odor_almond  odor_anise  \\\n",
       "4494                       0             0            0           0   \n",
       "5964                       0             0            0           0   \n",
       "5224                       0             0            0           0   \n",
       "4826                       0             0            0           0   \n",
       "7706                       0             0            0           0   \n",
       "5935                       0             0            0           0   \n",
       "7600                       0             0            0           0   \n",
       "5332                       0             0            0           0   \n",
       "5783                       0             0            0           0   \n",
       "5085                       0             0            0           0   \n",
       "\n",
       "      odor_none  odor_foul  odor_creosote  odor_fishy  odor_spicy  odor_musty  \n",
       "4494          1          0              0           0           0           0  \n",
       "5964          1          0              0           0           0           0  \n",
       "5224          1          0              0           0           0           0  \n",
       "4826          1          0              0           0           0           0  \n",
       "7706          1          0              0           0           0           0  \n",
       "5935          1          0              0           0           0           0  \n",
       "7600          1          0              0           0           0           0  \n",
       "5332          1          0              0           0           0           0  \n",
       "5783          1          0              0           0           0           0  \n",
       "5085          1          0              0           0           0           0  "
      ]
     },
     "execution_count": 19,
     "metadata": {},
     "output_type": "execute_result"
    }
   ],
   "source": [
    "mushrooms_new.iloc[Tree_errors]"
   ]
  },
  {
   "cell_type": "markdown",
   "id": "fe00f6b8",
   "metadata": {},
   "source": [
    "Note that all the samples for which the DT misclassified are\n",
    "* poisnous\n",
    "* have white spore prints\n",
    "* are odorless"
   ]
  },
  {
   "cell_type": "code",
   "execution_count": null,
   "id": "08a66e68",
   "metadata": {},
   "outputs": [],
   "source": []
  }
 ],
 "metadata": {
  "kernelspec": {
   "display_name": "Python 3 (ipykernel)",
   "language": "python",
   "name": "python3"
  },
  "language_info": {
   "codemirror_mode": {
    "name": "ipython",
    "version": 3
   },
   "file_extension": ".py",
   "mimetype": "text/x-python",
   "name": "python",
   "nbconvert_exporter": "python",
   "pygments_lexer": "ipython3",
   "version": "3.9.12"
  }
 },
 "nbformat": 4,
 "nbformat_minor": 5
}
